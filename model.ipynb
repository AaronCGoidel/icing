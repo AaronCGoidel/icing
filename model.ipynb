{
 "cells": [
  {
   "cell_type": "code",
   "execution_count": 22,
   "metadata": {},
   "outputs": [
    {
     "name": "stderr",
     "output_type": "stream",
     "text": [
      "/Library/Frameworks/Python.framework/Versions/3.8/lib/python3.8/site-packages/skimage/io/manage_plugins.py:23: UserWarning: Your installed pillow version is < 8.1.2. Several security issues (CVE-2021-27921, CVE-2021-25290, CVE-2021-25291, CVE-2021-25293, and more) have been fixed in pillow 8.1.2 or higher. We recommend to upgrade this library.\n",
      "  from .collection import imread_collection_wrapper\n"
     ]
    }
   ],
   "source": [
    "import torch\n",
    "from torchvision import transforms\n",
    "from torchvision.models import resnet50, ResNet50_Weights\n",
    "from torch.utils.data import Dataset\n",
    "from skimage import io\n",
    "import numpy as np\n",
    "import matplotlib.pyplot as plt\n",
    "import math\n",
    "\n",
    "DATA_PATH = './data/ctl/'"
   ]
  },
  {
   "cell_type": "code",
   "execution_count": null,
   "metadata": {},
   "outputs": [],
   "source": [
    "def crop_img(image, bbox):\n",
    "    image = Image.fromarray(image)\n",
    "    width, height = image.size\n",
    "    left = bbox[0] * width\n",
    "    top = bbox[1] * height\n",
    "    right = bbox[2] * width\n",
    "    bottom = bbox[3] * height\n",
    "\n",
    "    regions = [\n",
    "        (0, 0, width, top),\n",
    "        (0, bottom, width, height),\n",
    "        (0, 0, left, height),\n",
    "        (right, 0, width, height),\n",
    "    ]\n",
    "\n",
    "    largest_region = max(regions, key=lambda r: (r[2]-r[0]) * (r[3]-r[1]))\n",
    "\n",
    "    cropped_image = image.crop(largest_region)\n",
    "\n",
    "    return cropped_image"
   ]
  },
  {
   "cell_type": "code",
   "execution_count": null,
   "metadata": {},
   "outputs": [],
   "source": [
    "class CTLData(Dataset):\n",
    "    def __init__(self, data, transform=None):\n",
    "        self.data = data\n",
    "        self.transform = transform\n",
    "\n",
    "        self.category_dict = {}\n",
    "        for i, category in enumerate(self.data['category'].unique()):\n",
    "            self.category_dict[category] = i\n",
    "\n",
    "    def __len__(self):\n",
    "        return len(self.data)\n",
    "\n",
    "    def get_category(self, idx):\n",
    "        return self.category_dict[self.data.iloc[idx]['category']]\n",
    "\n",
    "    def convert_to_url(self, signature):\n",
    "        prefix = 'http://i.pinimg.com/400x/%s/%s/%s/%s.jpg'\n",
    "        return prefix % (signature[0:2], signature[2:4], signature[4:6], signature)\n",
    "\n",
    "    def get_image(self, signature, local=False):\n",
    "        if local:\n",
    "            return io.imread(DATA_PATH + \"/imgs/\" + signature + \".png\")\n",
    "        else:\n",
    "            return io.imread(convert_to_url(signature))\n",
    "    \n",
    "    def __getitem__(self, idx):\n",
    "        row = self.data.iloc[idx]\n",
    "\n",
    "        scene_img = get_image(row['scene_id'])\n",
    "        product_img = get_image(row['product_id'])\n",
    "        cropped_scene_img = crop_img(scene_img, row['bbox'])\n",
    "        \n",
    "\n",
    "        if self.transform:\n",
    "            scene_img = self.transform(scene_img)\n",
    "            product_img = self.transform(product_img)\n",
    "            cropped_scene_img = self.transform(cropped_scene_img)\n",
    "\n",
    "        return scene_img, product_img, cropped_scene_img, self.get_category(idx), row['label']"
   ]
  }
 ],
 "metadata": {
  "kernelspec": {
   "display_name": "Python 3",
   "language": "python",
   "name": "python3"
  },
  "language_info": {
   "codemirror_mode": {
    "name": "ipython",
    "version": 3
   },
   "file_extension": ".py",
   "mimetype": "text/x-python",
   "name": "python",
   "nbconvert_exporter": "python",
   "pygments_lexer": "ipython3",
   "version": "3.8.5"
  },
  "orig_nbformat": 4
 },
 "nbformat": 4,
 "nbformat_minor": 2
}
