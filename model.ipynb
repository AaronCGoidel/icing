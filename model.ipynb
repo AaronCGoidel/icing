{
  "cells": [
    {
      "cell_type": "code",
      "execution_count": 2,
      "metadata": {
        "id": "k5JCF-LPtDiU"
      },
      "outputs": [],
      "source": [
        "import torch\n",
        "from torch.utils.data import Dataset, DataLoader\n",
        "from torch.nn import BCEWithLogitsLoss\n",
        "\n",
        "from torchvision import transforms\n",
        "from torchvision.models import resnet50, ResNet50_Weights\n",
        "\n",
        "import numpy as np\n",
        "import pandas as pd\n",
        "\n",
        "import matplotlib.pyplot as plt\n",
        "import math\n",
        "\n",
        "from tqdm import tqdm\n",
        "\n",
        "import requests\n",
        "from PIL import Image"
      ]
    },
    {
      "cell_type": "code",
      "execution_count": 3,
      "metadata": {
        "colab": {
          "base_uri": "https://localhost:8080/"
        },
        "id": "DOX_-zqtDMlf",
        "outputId": "13e6dc08-60ac-47a3-e61f-a1ab72e7cb3c"
      },
      "outputs": [
        {
          "name": "stdout",
          "output_type": "stream",
          "text": [
            "Mounted at /content/drive\n"
          ]
        }
      ],
      "source": [
        "# from google.colab import drive\n",
        "# drive.mount('/content/drive')\n",
        "DATA_PATH = './data/ctl/'"
      ]
    },
    {
      "cell_type": "code",
      "execution_count": 4,
      "metadata": {
        "colab": {
          "base_uri": "https://localhost:8080/"
        },
        "id": "r8eUSan0tDiV",
        "outputId": "850e0ac8-283c-4fed-c120-fede36aab23c"
      },
      "outputs": [
        {
          "data": {
            "text/plain": [
              "device(type='cuda')"
            ]
          },
          "execution_count": 4,
          "metadata": {},
          "output_type": "execute_result"
        }
      ],
      "source": [
        "device = torch.device('cuda' if torch.cuda.is_available() else 'cpu')\n",
        "device"
      ]
    },
    {
      "cell_type": "code",
      "execution_count": 5,
      "metadata": {
        "id": "B757F0dntDiW"
      },
      "outputs": [],
      "source": [
        "class CTLData(Dataset):\n",
        "    def __init__(self, data, transform=None):\n",
        "        self.data = data\n",
        "        self.transform = transform\n",
        "\n",
        "        self.category_dict = {}\n",
        "        for i, category in enumerate(self.data['category'].unique()):\n",
        "            self.category_dict[category] = i\n",
        "\n",
        "    def __len__(self):\n",
        "        return len(self.data)\n",
        "\n",
        "    def get_category(self, idx):\n",
        "        return self.category_dict[self.data.iloc[idx]['category']]\n",
        "\n",
        "    def convert_to_url(self, signature):\n",
        "        prefix = 'http://i.pinimg.com/400x/%s/%s/%s/%s.jpg'\n",
        "        return prefix % (signature[0:2], signature[2:4], signature[4:6], signature)\n",
        "\n",
        "    def get_image(self, signature):\n",
        "        url = self.convert_to_url(signature)\n",
        "        return Image.open(requests.get(url, stream=True).raw)\n",
        "\n",
        "    def _crop_img(self, image, bbox):\n",
        "        width, height = image.size\n",
        "        left = bbox[0] * width\n",
        "        top = bbox[1] * height\n",
        "        right = bbox[2] * width\n",
        "        bottom = bbox[3] * height\n",
        "\n",
        "        regions = [\n",
        "            (0, 0, width, top),\n",
        "            (0, bottom, width, height),\n",
        "            (0, 0, left, height),\n",
        "            (right, 0, width, height),\n",
        "        ]\n",
        "\n",
        "        largest_region = max(regions, key=lambda r: (r[2]-r[0]) * (r[3]-r[1]))\n",
        "\n",
        "        cropped_image = image.crop(largest_region)\n",
        "\n",
        "        return cropped_image\n",
        "\n",
        "    def __getitem__(self, idx):\n",
        "        row = self.data.iloc[idx]\n",
        "\n",
        "        scene_img = self.get_image(row['scene_id'])\n",
        "        product_img = self.get_image(row['product_id'])\n",
        "        bbox = [float(x) for x in row['bbox'][1:-1].split(',')]\n",
        "        cropped_scene_img = self._crop_img(scene_img, bbox)\n",
        "\n",
        "        if min(cropped_scene_img.size) == 0:\n",
        "          row = self.data.iloc[0]\n",
        "\n",
        "          scene_img = self.get_image(row['scene_id'])\n",
        "          product_img = self.get_image(row['product_id'])\n",
        "          bbox = [float(x) for x in row['bbox'][1:-1].split(',')]\n",
        "          cropped_scene_img = self._crop_img(scene_img, bbox)\n",
        "\n",
        "\n",
        "        if self.transform:\n",
        "            scene_img = self.transform(scene_img)\n",
        "            product_img = self.transform(product_img)\n",
        "            cropped_scene_img = self.transform(cropped_scene_img)\n",
        "\n",
        "\n",
        "        return product_img, cropped_scene_img, torch.tensor(self.get_category(idx)), torch.tensor(row['label'])\n"
      ]
    },
    {
      "cell_type": "code",
      "execution_count": 6,
      "metadata": {
        "id": "jpSsfstptDiX"
      },
      "outputs": [],
      "source": [
        "class CTLModel(torch.nn.Module):\n",
        "    def __init__(self, feature_extractor, attention_mechanism, similarity, embed_dim=128):\n",
        "        super(CTLModel, self).__init__()\n",
        "        self.feature_extractor = feature_extractor\n",
        "\n",
        "        # two layer feed forward network to tranform features into d-dim embedding with unit length\n",
        "        # Linear-BN-Relu-Dropout-Linear-Norm\n",
        "        self.feed_forward = torch.nn.Sequential(\n",
        "            torch.nn.Linear(1000, embed_dim),\n",
        "            # torch.nn.BatchNorm1d(embed_dim),\n",
        "            torch.nn.ReLU(),\n",
        "            torch.nn.Dropout(0.2),\n",
        "            torch.nn.Linear(embed_dim, embed_dim),\n",
        "            # torch.nn.BatchNorm1d(embed_dim),\n",
        "            torch.nn.ReLU(),\n",
        "        )\n",
        "        self.feed_forward.to(device)\n",
        "\n",
        "        self.attention_mechanism = attention_mechanism\n",
        "        self.attention_mechanism.to(device)\n",
        "\n",
        "        self.similarity = similarity\n",
        "\n",
        "    def forward(self, scene_img, product_img, category, verbose=False):\n",
        "        if verbose:\n",
        "            fig, ax = plt.subplots(1, 2)\n",
        "            ax[0].imshow(scene_img[0].permute(1, 2, 0).cpu().detach().numpy())\n",
        "            ax[1].imshow(product_img[0].permute(1, 2, 0).cpu().detach().numpy())\n",
        "            plt.show()\n",
        "\n",
        "        # extract global features and embed\n",
        "        scene_features = self.feature_extractor(scene_img).to(device)\n",
        "        product_features = self.feature_extractor(product_img).to(device)\n",
        "\n",
        "        scene_embedding = self.feed_forward(scene_features)\n",
        "        product_embedding = self.feed_forward(product_features)\n",
        "\n",
        "        # extract local features for n patches of scene\n",
        "        patch_embeddings = []\n",
        "        patch_size = 142\n",
        "        for i in range(0, scene_img.shape[2] - patch_size, patch_size):\n",
        "            for j in range(0, scene_img.shape[3] - patch_size, patch_size):\n",
        "                patch = scene_img[:, :, i:i+patch_size, j:j+patch_size]\n",
        "\n",
        "                if verbose:\n",
        "                    # visualize patch\n",
        "                    print(\"patch number\", len(patch_embeddings))\n",
        "                    plt.imshow(patch[0].permute(1, 2, 0).cpu().detach().numpy())\n",
        "                    plt.show()\n",
        "\n",
        "                patch_features = self.feature_extractor(patch).to(device)\n",
        "                patch_embedding = self.feed_forward(patch_features)\n",
        "                patch_embeddings.append(patch_embedding)\n",
        "\n",
        "\n",
        "        # compute attention weights for the scene patches\n",
        "        attention = self.attention_mechanism(patch_embeddings, product_embedding, category)\n",
        "\n",
        "        # compute global similarity\n",
        "        global_similarity = self.similarity(scene_embedding, product_embedding)\n",
        "\n",
        "        # compute local similarity sum over similarity of each patch weighted by attention with product\n",
        "        local_similarity = sum([self.similarity(patch_embedding, product_embedding) * attention[i] for i, patch_embedding in enumerate(patch_embeddings)])\n",
        "\n",
        "        compatability = 0.5 * (global_similarity + local_similarity)\n",
        "\n",
        "        return compatability\n",
        "\n"
      ]
    },
    {
      "cell_type": "code",
      "execution_count": 7,
      "metadata": {
        "colab": {
          "base_uri": "https://localhost:8080/"
        },
        "id": "K-BlkDadtDiY",
        "outputId": "ff5f6a77-8147-4408-b06b-d4b88001fec0"
      },
      "outputs": [
        {
          "name": "stderr",
          "output_type": "stream",
          "text": [
            "Downloading: \"https://download.pytorch.org/models/resnet50-11ad3fa6.pth\" to /root/.cache/torch/hub/checkpoints/resnet50-11ad3fa6.pth\n",
            "100%|██████████| 97.8M/97.8M [00:01<00:00, 102MB/s]\n"
          ]
        }
      ],
      "source": [
        "# load pretrained resnet50 for feature extraction\n",
        "resnet = resnet50(weights=ResNet50_Weights.IMAGENET1K_V2)\n",
        "# resnet = torch.nn.Sequential(*(list(resnet.children())[:-1]))\n",
        "resnet.eval()\n",
        "if torch.cuda.is_available():\n",
        "    resnet = resnet.cuda()\n",
        "\n",
        "\n",
        "transform = transforms.Compose([\n",
        "    transforms.Lambda(lambda x: x.convert(\"RGB\")),\n",
        "    transforms.Resize(320,\n",
        "                      antialias=True),\n",
        "    transforms.CenterCrop(288),\n",
        "    transforms.ToTensor(),\n",
        "    # transforms.Normalize(mean=[0.485, 0.456, 0.406], std=[0.229, 0.224, 0.225]),\n",
        "])\n",
        "\n",
        "class Attention(torch.nn.Module):\n",
        "    def __init__(self, embed_dim=128, num_categories=10):\n",
        "        super(Attention, self).__init__()\n",
        "        self.embed_dim = embed_dim\n",
        "        self.category_embeddings = torch.nn.Embedding(num_categories, embed_dim)\n",
        "\n",
        "    def forward(self, patch_embeddings, product_embedding, category):\n",
        "        category_embedding = self.category_embeddings(category)\n",
        "        attentions = [-torch.norm(patch_embedding - category_embedding, dim=-1) for patch_embedding in patch_embeddings]\n",
        "        attentions = torch.nn.functional.softmax(torch.stack(attentions), dim=0)\n",
        "        return attentions\n",
        "\n",
        "\n",
        "def cos_sim(scene_features, product_features):\n",
        "    return torch.nn.functional.cosine_similarity(scene_features, product_features, dim=-1)\n",
        "\n",
        "def l2_sim(scene_features, product_features):\n",
        "    return -torch.norm(scene_features - product_features, dim=-1)\n"
      ]
    },
    {
      "cell_type": "code",
      "execution_count": 8,
      "metadata": {
        "id": "XnVh42MRtDiY"
      },
      "outputs": [],
      "source": [
        "model = CTLModel(feature_extractor=resnet, attention_mechanism=Attention(), similarity=l2_sim)"
      ]
    },
    {
      "cell_type": "code",
      "execution_count": 9,
      "metadata": {
        "id": "mxXydqK7tDiY"
      },
      "outputs": [],
      "source": [
        "df = pd.read_csv(DATA_PATH + 'data.csv')\n",
        "\n",
        "split = 0.8\n",
        "train_df = df[int(split * len(df)):]\n",
        "test_df = df[:int(split * len(df))]\n",
        "\n",
        "positive_df = train_df[train_df['label'] == 1]\n",
        "negative_df = train_df[train_df['label'] == 0]\n",
        "\n",
        "positive_dataset = CTLData(positive_df, transform)\n",
        "negative_dataset = CTLData(negative_df, transform)\n",
        "\n",
        "positive_loader = DataLoader(positive_dataset, batch_size=16, shuffle=True)\n",
        "negative_loader = DataLoader(negative_dataset, batch_size=16, shuffle=True)"
      ]
    },
    {
      "cell_type": "code",
      "execution_count": null,
      "metadata": {
        "colab": {
          "base_uri": "https://localhost:8080/"
        },
        "id": "pdTf1DWCtDiY",
        "outputId": "6ac52c01-cb70-41a2-9441-b545794fcd24"
      },
      "outputs": [],
      "source": [
        "optimizer = torch.optim.Adam(model.parameters(), lr=0.01)\n",
        "\n",
        "num_epochs = 10\n",
        "losses = []\n",
        "alpha = 0.5\n",
        "epochs = []\n",
        "i = 0\n",
        "for epoch in range(num_epochs):\n",
        "    # zip the positive and negative loaders to create pairs\n",
        "    for (pos_product_img, pos_cropped_scene_img, pos_category, _), (neg_product_img, neg_cropped_scene_img, neg_category, _) in zip(tqdm(positive_loader), negative_loader):\n",
        "        pos_product_img = pos_product_img.to(device)\n",
        "        pos_cropped_scene_img = pos_cropped_scene_img.to(device)\n",
        "        pos_category = pos_category.to(device)\n",
        "\n",
        "        neg_product_img = neg_product_img.to(device)\n",
        "        neg_cropped_scene_img = neg_cropped_scene_img.to(device)\n",
        "        neg_category = neg_category.to(device)\n",
        "\n",
        "        # forward pass for both positive and negative samples\n",
        "        pos_output = model(pos_cropped_scene_img, pos_product_img, pos_category)\n",
        "        neg_output = model(neg_cropped_scene_img, neg_product_img, neg_category)\n",
        "\n",
        "        # compute hinge loss\n",
        "        # hinge loss is max(0, alpha + pos_output - neg_output)\n",
        "        loss = torch.clamp(alpha + pos_output - neg_output, min=0)\n",
        "        loss = loss.mean()\n",
        "\n",
        "        # backward and optimize\n",
        "        optimizer.zero_grad()\n",
        "        loss.backward()\n",
        "        optimizer.step()\n",
        "\n",
        "        if i % 10 == 0:\n",
        "            print(f\"\\nLoss: {loss.item():.4f}\")\n",
        "            losses.append(loss.item())\n",
        "        i += 1\n",
        "\n",
        "    print(f'Epoch [{epoch + 1}/{num_epochs}]')\n",
        "    epochs.append(len(losses))\n",
        "\n",
        "\n",
        "# plot losses\n",
        "plt.plot(losses)\n",
        "plt.xlabel('Epoch')\n",
        "plt.ylabel('Loss')\n",
        "for x in epochs:\n",
        "    plt.axvline(x=x, color='r', linestyle='--')\n",
        "plt.show()\n"
      ]
    },
    {
      "cell_type": "code",
      "execution_count": null,
      "metadata": {
        "id": "fDMfvmHBtDiY"
      },
      "outputs": [],
      "source": []
    }
  ],
  "metadata": {
    "accelerator": "GPU",
    "colab": {
      "gpuType": "A100",
      "provenance": []
    },
    "kernelspec": {
      "display_name": "Python 3",
      "name": "python3"
    },
    "language_info": {
      "codemirror_mode": {
        "name": "ipython",
        "version": 3
      },
      "file_extension": ".py",
      "mimetype": "text/x-python",
      "name": "python",
      "nbconvert_exporter": "python",
      "pygments_lexer": "ipython3",
      "version": "3.8.5"
    },
    "orig_nbformat": 4
  },
  "nbformat": 4,
  "nbformat_minor": 0
}
